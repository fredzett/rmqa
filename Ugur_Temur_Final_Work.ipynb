{
 "cells": [
  {
   "cell_type": "markdown",
   "metadata": {
    "id": "GT08kezezTRY"
   },
   "source": [
    "# RESEARCH METHODS AND QUANTITATIVE ANALYSIS FINAL EXAM"
   ]
  },
  {
   "cell_type": "markdown",
   "metadata": {
    "id": "lLt-_Y2nzTRb"
   },
   "source": [
    "#### NAME: UĞUR TEMÜR\n",
    "#### STUDENT ID : 207108004\n",
    "#### TURKISH GERMAN UNIVERSITY \n",
    "#### INSTITUTE OF SOCIAL SCIENCE\n",
    "#### BUSINESS MANAGEMENT GRADUATE PROGRAM"
   ]
  },
  {
   "cell_type": "code",
   "execution_count": 1,
   "metadata": {
    "id": "hGdQsJ5KzTRc"
   },
   "outputs": [],
   "source": [
    "import numpy as np\n",
    "import pandas as pd\n",
    "import matplotlib.pyplot as plt\n",
    "import scipy.stats as stats\n",
    "import statsmodels.api as sm\n",
    "from patsy import dmatrices\n",
    "from sklearn.cluster import KMeans\n",
    "plt.rcParams['font.size'] = 12\n",
    "plt.rcParams['figure.figsize'] = [9,7]\n",
    "plt.rcParams['figure.dpi'] = 80\n",
    "plt.rcParams[\"axes.spines.right\"] = False\n",
    "plt.rcParams[\"axes.spines.top\"] = False"
   ]
  },
  {
   "cell_type": "markdown",
   "metadata": {
    "id": "1U6K1M6LzTRd"
   },
   "source": [
    "## EXCERSISE 1"
   ]
  },
  {
   "cell_type": "markdown",
   "metadata": {
    "id": "3-MHv7w2zTRd"
   },
   "source": [
    "A game involving a toin coss has the following rules:\n",
    "\n",
    "The player tosses a coin repeatedly until a tail appears or tosses it a maximum of 1000 times if no tail appears. The initial stake starts at 2 dollars and is doubled every time heads appears. The first time tails appears, the game ends and the player wins whatever is in the pot. Thus the player wins 2 dollars if tails appears on the first toss, 4 dollars if heads appears on the first toss and tails on the second, 8 dollars if heads appears on the first two tosses and tails on the third, and so on.\n",
    "\n",
    "(Note: the coin is a fair coin with two sides (head and tail))\n",
    "\n",
    "Question: What is the probability of profit if it costs 30 dollars to participate in the game?"
   ]
  },
  {
   "cell_type": "markdown",
   "metadata": {
    "id": "PA1YxpYCzTRe"
   },
   "source": [
    "## SOLUTION1"
   ]
  },
  {
   "cell_type": "markdown",
   "metadata": {
    "id": "-P5th453zTRe"
   },
   "source": [
    "Infortmation which is given in the question tells us to reach 30 dollars minimum. Second information is that stake increases exponential in each tour. So we have to get 4 times head. probabilty of it is described as : (1/2)*(1/2)*(1/2)*(1/2)=0,0625=%6,25"
   ]
  },
  {
   "cell_type": "code",
   "execution_count": 2,
   "metadata": {
    "colab": {
     "base_uri": "https://localhost:8080/"
    },
    "id": "5AB9UL1wzTRe",
    "outputId": "43058fbe-6d15-4a6e-c6dc-8a5e337784f1"
   },
   "outputs": [
    {
     "name": "stdout",
     "output_type": "stream",
     "text": [
      "probability of 4 heads =  0.062\n"
     ]
    }
   ],
   "source": [
    "#Simulation\n",
    "n = 1000\n",
    "draws = 4\n",
    "probs = [1/2, 1/2]\n",
    "head = 1\n",
    "tail = 0\n",
    "data = np.random.choice([head, tail], size=(n,draws), p=probs)\n",
    "Heads = np.sum(data == 1, axis = 1)\n",
    "probability_of_four_heads = sum(Heads == 4) / n\n",
    "print(\"probability of 4 heads = \", probability_of_four_heads)"
   ]
  },
  {
   "cell_type": "markdown",
   "metadata": {
    "id": "wxbjszOczTRf"
   },
   "source": [
    "## EXCERSISE 2"
   ]
  },
  {
   "cell_type": "markdown",
   "metadata": {
    "id": "v2S8OFKVzTRg"
   },
   "source": [
    "A box contains 100 coins, where 99 are fair but one is double-handed, i.e.\n",
    "\n",
    "99 of 100 coins have an equal probability of 50% to land either head or tail\n",
    "1 of 100 coins will always land head\n",
    "A coin is chosen at random from the box. The chosen coin is then flipped  7  times, and it lands heads all 7 times.\n",
    "\n",
    "Question: Given this information, what is the probability that the chosen coin is a fair coin."
   ]
  },
  {
   "cell_type": "markdown",
   "metadata": {
    "id": "QD56bfilzTRg"
   },
   "source": [
    "## SOLUTION 2"
   ]
  },
  {
   "cell_type": "markdown",
   "metadata": {
    "id": "Pr8csRTQzTRg"
   },
   "source": [
    "In this question we can solve the problem mathematically by using bayes rules as it is described: P(A/B)=1-P(A∩B)/P(B)\n",
    "1-((1/100)*1)/((1/100*1)+(99/100)*(1/2**7))=0,4361"
   ]
  },
  {
   "cell_type": "code",
   "execution_count": 3,
   "metadata": {
    "colab": {
     "base_uri": "https://localhost:8080/"
    },
    "id": "sJORx4huzTRh",
    "outputId": "735d40af-9c6b-4715-fae8-34ef75035d80"
   },
   "outputs": [
    {
     "data": {
      "text/plain": [
       "0.4361233480176211"
      ]
     },
     "execution_count": 3,
     "metadata": {},
     "output_type": "execute_result"
    }
   ],
   "source": [
    "#calculation\n",
    "1-((1/100)*1)/((1/100*1)+(99/100)*(1/2**7))"
   ]
  },
  {
   "cell_type": "code",
   "execution_count": 125,
   "metadata": {},
   "outputs": [],
   "source": [
    "n = 100\n",
    "chosing_fair_token = 99/100\n",
    "chosing_double_headed = 1/100\n",
    "token = 1\n",
    "probs = [chosing_fair_token,chosing_double_headed]\n",
    "testing = 100"
   ]
  },
  {
   "cell_type": "code",
   "execution_count": 126,
   "metadata": {},
   "outputs": [],
   "source": [
    "def simulation_of_fair_token(testing):\n",
    "    choice_fair =np.random.choice([\"fair\", \"doubleheaded\"], size = (n,token), p=probs)\n",
    "    for i in range(testing):\n",
    "        number_of_fair = np.sum(choice_fair == \"fair\", axis = 1)\n",
    "        prob_c_f = sum(number_of_fair == 1) / n\n",
    "        prob_f7times= 1 / 2**7\n",
    "        prob_d7times= 1\n",
    "    return (prob_f7times * prob_c_f) / ((prob_f7times*prob_c_f) + (prob_d7times *(1 - prob_c_f)))"
   ]
  },
  {
   "cell_type": "code",
   "execution_count": 129,
   "metadata": {},
   "outputs": [
    {
     "name": "stdout",
     "output_type": "stream",
     "text": [
      "0.43612334801762087\n"
     ]
    }
   ],
   "source": [
    "simulation_of_fair_token(testing)\n",
    "print(simulation_of_fair_token(testing))"
   ]
  },
  {
   "cell_type": "markdown",
   "metadata": {
    "id": "ba5SExCZzTRi"
   },
   "source": [
    "# EXERCISES 3\n",
    "## Resampling Method"
   ]
  },
  {
   "cell_type": "markdown",
   "metadata": {
    "id": "Yxx_7-4ozTRi"
   },
   "source": [
    "We are using a statistical model (e.g. linear regression) to predict a response variable  𝑌  for a particular value of  𝑋 . Describe how we might estimate the standard deviation of our prediction using a bootstrap approach."
   ]
  },
  {
   "cell_type": "markdown",
   "metadata": {
    "id": "3WgDVikJzTRi"
   },
   "source": [
    "# SOLUTION"
   ]
  },
  {
   "cell_type": "markdown",
   "metadata": {
    "id": "HBJRdf6nzTRj"
   },
   "source": [
    "When we have limited sample  group, we use simulation method in our sample groups in order to increase of the population. The bootstrap method is a resampling technique used to estimate statistics on a population by sampling a dataset with replacement(https://machinelearningmastery.com/a-gentle-introduction-to-the-bootstrap-method/#:~:text=The%20bootstrap%20method%20is%20a,the%20mean%20or%20standard%20deviation.) By using Bootstrap approach we can reach better solution even if we don't have lots of statistical information about the sample group. Because we multiply our population according to the sample group and calculate the standart deviation iteratively for each element.This process allows you to calculate standard errors, construct confidence intervals, and perform hypothesis testing for numerous types of sample statistics. Bootstrap methods are alternative approaches to traditional hypothesis testing and are notable for being easier to understand and valid for more conditions(https://statisticsbyjim.com/hypothesis-testing/bootstrapping/)\n",
    "\n",
    "Basic Linear regression model is described Y= m+nx ; m is intercept and n is the slope of the model."
   ]
  },
  {
   "cell_type": "markdown",
   "metadata": {
    "id": "sA4MGp3AzTRj"
   },
   "source": [
    "# EXERCISE 4"
   ]
  },
  {
   "cell_type": "markdown",
   "metadata": {},
   "source": [
    "Answer the following questions regarding cross-validation\n",
    "\n",
    "1. why cross validation is useful to evaluate the predictive performance of a statistical model\n",
    "\n",
    "2. Explain how k-fold cross-validation is implemented\n",
    "\n",
    "3. Explain the advantates and disadvantages of k-fold cross-validation relative to\n",
    "\n",
    "    A. validation set approach\n",
    "\n",
    "    B. LOOCV approach"
   ]
  },
  {
   "cell_type": "markdown",
   "metadata": {},
   "source": [
    "# SOLUTION"
   ]
  },
  {
   "cell_type": "markdown",
   "metadata": {},
   "source": [
    "1 Cross Validation is a technique which involves reserving a particular sample of a dataset on which you do not train the model. Later, you test your model on this sample before finalizing it(https://www.analyticsvidhya.com/blog/2018/05/improve-model-performance-cross-validation-in-python-r/). Cross validation is a checking mechanism that control whether our model is good or not. we use test and train groups which is chosen from our sample group.\n",
    "\n",
    "2 K-fold cross validation is implemented by derivating K numbered groups which have roughly equal to each other. ın K-fold validation The dataset is split into ‘k’ number of subsets, k-1 subsets then are used to train the model and the last subset is kept as a validation set to test the model. Then the score of the model on each fold is averaged to evaluate the performance of the model(https://www.askpython.com/python/examples/k-fold-cross-validation).\n",
    "\n",
    "3 A \n",
    "Advantage of k-fold cross validation relative to the validation set: The validation estimate of the test error rate can be highly variable, depending on precisely which observations are included in the training set and which observations are included in the validation set. Moreover, validation set error rate may tend to overestimate the test error rate for the model fit on the entire data set.\n",
    "\n",
    "Disadvantage of k-fold cross validation relative to the validation set: Validation set approach is conceptually simple and easy to implement(https://rstudio-pubs-static.s3.amazonaws.com/250194_57c5e6eb80c44b35be939cb233293972.html).\n",
    "\n",
    "3 B The LOOCV cross-validation approach is a special case of k-fold cross-validation in which k=n.\n",
    "\n",
    "Advantage of k-fold cross validation relative to LOOCV: LOOCV requires fitting the statistical learning method n times. This has the potential to be computationally expensive. Moreover, k-fold CV often gives more accurate estimates of the test error rate than does LOOCV.\n",
    "\n",
    "Disadvantage of k-fold cross validation relative to LOOCV: If the main purpose bias reduction, LOOCV should be preffered to k-fold CV since it tends to has less bias.\n",
    "\n",
    "So, there is a bias-variance trade-off associated with the choice of k in k-fold cross-validation; typically using k=5 or k=10 yield test error rate estimates that suffer neither from excessively high bias nor from very high variance(https://rstudio-pubs-static.s3.amazonaws.com/250194_57c5e6eb80c44b35be939cb233293972.html)."
   ]
  },
  {
   "cell_type": "markdown",
   "metadata": {},
   "source": [
    "# EXERCISE 5"
   ]
  },
  {
   "cell_type": "markdown",
   "metadata": {},
   "source": [
    "A friend of yours argues that he earns money by predicting today's stock return from looking at the previous day's returns (so called \"lags\"). Specifically, he argues that today's returns can be explained by the five previous days.\n",
    "\n",
    "Example:\n",
    "\n",
    "* today's return is +3%\n",
    "* returns in the five previous days where +1%, -2%, +2%, +0.4% and -2% (called lag1 to lag5)\n",
    "\n",
    "Then he argues that the +3% can be explained by the previous five day returns.\n",
    "\n",
    "Exercise:\n",
    "\n",
    "Below you are given a dataset of approximately 5 years of daily returns of the German Stock Index (DAX 30). Use linear regression analysis to analyse the validity of your friend's statments. Specifically do the following:\n",
    "\n",
    "1 build a linear regression model specifying y and X such that the above statmenent can be scrutinized in a reasonable way\n",
    "\n",
    "2 evaluate and interpret the model's goodness of fit (i.e. how good is the overall model in explaining stock returns)\n",
    "\n",
    "3 evaluate and interpret the regression coefficients (i.e. how do individual variables contribute in explaining stock returns). Also include the intercept (i.e.  𝛽0 ) in your discussion\n",
    "\n",
    "4 What is your conclusion of your analysis. What would tell your friend regarding his statement?"
   ]
  },
  {
   "cell_type": "code",
   "execution_count": 135,
   "metadata": {},
   "outputs": [],
   "source": [
    "df = pd.read_csv('data.csv')"
   ]
  },
  {
   "cell_type": "code",
   "execution_count": 136,
   "metadata": {},
   "outputs": [
    {
     "data": {
      "text/html": [
       "<div>\n",
       "<style scoped>\n",
       "    .dataframe tbody tr th:only-of-type {\n",
       "        vertical-align: middle;\n",
       "    }\n",
       "\n",
       "    .dataframe tbody tr th {\n",
       "        vertical-align: top;\n",
       "    }\n",
       "\n",
       "    .dataframe thead th {\n",
       "        text-align: right;\n",
       "    }\n",
       "</style>\n",
       "<table border=\"1\" class=\"dataframe\">\n",
       "  <thead>\n",
       "    <tr style=\"text-align: right;\">\n",
       "      <th></th>\n",
       "      <th>Date</th>\n",
       "      <th>volume</th>\n",
       "      <th>today</th>\n",
       "      <th>lag1</th>\n",
       "      <th>lag2</th>\n",
       "      <th>lag3</th>\n",
       "      <th>lag4</th>\n",
       "      <th>lag5</th>\n",
       "    </tr>\n",
       "  </thead>\n",
       "  <tbody>\n",
       "    <tr>\n",
       "      <th>0</th>\n",
       "      <td>2016-01-04</td>\n",
       "      <td>119844300.0</td>\n",
       "      <td>-0.042778</td>\n",
       "      <td>-0.010785</td>\n",
       "      <td>0.019357</td>\n",
       "      <td>-0.006873</td>\n",
       "      <td>0.000000</td>\n",
       "      <td>0.022776</td>\n",
       "    </tr>\n",
       "    <tr>\n",
       "      <th>1</th>\n",
       "      <td>2016-01-05</td>\n",
       "      <td>84894800.0</td>\n",
       "      <td>0.002592</td>\n",
       "      <td>-0.042778</td>\n",
       "      <td>-0.010785</td>\n",
       "      <td>0.019357</td>\n",
       "      <td>-0.006873</td>\n",
       "      <td>0.000000</td>\n",
       "    </tr>\n",
       "    <tr>\n",
       "      <th>2</th>\n",
       "      <td>2016-01-06</td>\n",
       "      <td>90465700.0</td>\n",
       "      <td>-0.009319</td>\n",
       "      <td>0.002592</td>\n",
       "      <td>-0.042778</td>\n",
       "      <td>-0.010785</td>\n",
       "      <td>0.019357</td>\n",
       "      <td>-0.006873</td>\n",
       "    </tr>\n",
       "    <tr>\n",
       "      <th>3</th>\n",
       "      <td>2016-01-07</td>\n",
       "      <td>128029000.0</td>\n",
       "      <td>-0.022926</td>\n",
       "      <td>-0.009319</td>\n",
       "      <td>0.002592</td>\n",
       "      <td>-0.042778</td>\n",
       "      <td>-0.010785</td>\n",
       "      <td>0.019357</td>\n",
       "    </tr>\n",
       "    <tr>\n",
       "      <th>4</th>\n",
       "      <td>2016-01-08</td>\n",
       "      <td>98631100.0</td>\n",
       "      <td>-0.013077</td>\n",
       "      <td>-0.022926</td>\n",
       "      <td>-0.009319</td>\n",
       "      <td>0.002592</td>\n",
       "      <td>-0.042778</td>\n",
       "      <td>-0.010785</td>\n",
       "    </tr>\n",
       "    <tr>\n",
       "      <th>...</th>\n",
       "      <td>...</td>\n",
       "      <td>...</td>\n",
       "      <td>...</td>\n",
       "      <td>...</td>\n",
       "      <td>...</td>\n",
       "      <td>...</td>\n",
       "      <td>...</td>\n",
       "      <td>...</td>\n",
       "    </tr>\n",
       "    <tr>\n",
       "      <th>1253</th>\n",
       "      <td>2020-12-15</td>\n",
       "      <td>67265000.0</td>\n",
       "      <td>0.010566</td>\n",
       "      <td>0.008301</td>\n",
       "      <td>-0.013646</td>\n",
       "      <td>-0.003338</td>\n",
       "      <td>0.004652</td>\n",
       "      <td>0.000564</td>\n",
       "    </tr>\n",
       "    <tr>\n",
       "      <th>1254</th>\n",
       "      <td>2020-12-16</td>\n",
       "      <td>77798600.0</td>\n",
       "      <td>0.015200</td>\n",
       "      <td>0.010566</td>\n",
       "      <td>0.008301</td>\n",
       "      <td>-0.013646</td>\n",
       "      <td>-0.003338</td>\n",
       "      <td>0.004652</td>\n",
       "    </tr>\n",
       "    <tr>\n",
       "      <th>1255</th>\n",
       "      <td>2020-12-17</td>\n",
       "      <td>77206700.0</td>\n",
       "      <td>0.007465</td>\n",
       "      <td>0.015200</td>\n",
       "      <td>0.010566</td>\n",
       "      <td>0.008301</td>\n",
       "      <td>-0.013646</td>\n",
       "      <td>-0.003338</td>\n",
       "    </tr>\n",
       "    <tr>\n",
       "      <th>1256</th>\n",
       "      <td>2020-12-18</td>\n",
       "      <td>156772100.0</td>\n",
       "      <td>-0.002688</td>\n",
       "      <td>0.007465</td>\n",
       "      <td>0.015200</td>\n",
       "      <td>0.010566</td>\n",
       "      <td>0.008301</td>\n",
       "      <td>-0.013646</td>\n",
       "    </tr>\n",
       "    <tr>\n",
       "      <th>1257</th>\n",
       "      <td>2020-12-21</td>\n",
       "      <td>98290900.0</td>\n",
       "      <td>-0.028187</td>\n",
       "      <td>-0.002688</td>\n",
       "      <td>0.007465</td>\n",
       "      <td>0.015200</td>\n",
       "      <td>0.010566</td>\n",
       "      <td>0.008301</td>\n",
       "    </tr>\n",
       "  </tbody>\n",
       "</table>\n",
       "<p>1258 rows × 8 columns</p>\n",
       "</div>"
      ],
      "text/plain": [
       "            Date       volume     today      lag1      lag2      lag3  \\\n",
       "0     2016-01-04  119844300.0 -0.042778 -0.010785  0.019357 -0.006873   \n",
       "1     2016-01-05   84894800.0  0.002592 -0.042778 -0.010785  0.019357   \n",
       "2     2016-01-06   90465700.0 -0.009319  0.002592 -0.042778 -0.010785   \n",
       "3     2016-01-07  128029000.0 -0.022926 -0.009319  0.002592 -0.042778   \n",
       "4     2016-01-08   98631100.0 -0.013077 -0.022926 -0.009319  0.002592   \n",
       "...          ...          ...       ...       ...       ...       ...   \n",
       "1253  2020-12-15   67265000.0  0.010566  0.008301 -0.013646 -0.003338   \n",
       "1254  2020-12-16   77798600.0  0.015200  0.010566  0.008301 -0.013646   \n",
       "1255  2020-12-17   77206700.0  0.007465  0.015200  0.010566  0.008301   \n",
       "1256  2020-12-18  156772100.0 -0.002688  0.007465  0.015200  0.010566   \n",
       "1257  2020-12-21   98290900.0 -0.028187 -0.002688  0.007465  0.015200   \n",
       "\n",
       "          lag4      lag5  \n",
       "0     0.000000  0.022776  \n",
       "1    -0.006873  0.000000  \n",
       "2     0.019357 -0.006873  \n",
       "3    -0.010785  0.019357  \n",
       "4    -0.042778 -0.010785  \n",
       "...        ...       ...  \n",
       "1253  0.004652  0.000564  \n",
       "1254 -0.003338  0.004652  \n",
       "1255 -0.013646 -0.003338  \n",
       "1256  0.008301 -0.013646  \n",
       "1257  0.010566  0.008301  \n",
       "\n",
       "[1258 rows x 8 columns]"
      ]
     },
     "execution_count": 136,
     "metadata": {},
     "output_type": "execute_result"
    }
   ],
   "source": [
    "df"
   ]
  },
  {
   "cell_type": "code",
   "execution_count": 137,
   "metadata": {},
   "outputs": [
    {
     "data": {
      "text/plain": [
       "Intercept    0.000225\n",
       "lag1         0.007722\n",
       "lag2         0.066736\n",
       "lag3         0.058265\n",
       "lag4        -0.046920\n",
       "lag5         0.011229\n",
       "dtype: float64"
      ]
     },
     "execution_count": 137,
     "metadata": {},
     "output_type": "execute_result"
    }
   ],
   "source": [
    "y, X = dmatrices(\"today ~ lag1 + lag2 + lag3 + lag4 + lag5\", df, return_type=\"dataframe\") \n",
    "ols = sm.OLS(y,X).fit() \n",
    "ols.params "
   ]
  },
  {
   "cell_type": "code",
   "execution_count": 138,
   "metadata": {},
   "outputs": [
    {
     "data": {
      "text/plain": [
       "0       0.001289\n",
       "1       0.000625\n",
       "2      -0.004224\n",
       "3      -0.001443\n",
       "4       0.001463\n",
       "          ...   \n",
       "1253   -0.001028\n",
       "1254    0.000274\n",
       "1255    0.002134\n",
       "1256    0.001370\n",
       "1257    0.001185\n",
       "Length: 1258, dtype: float64"
      ]
     },
     "execution_count": 138,
     "metadata": {},
     "output_type": "execute_result"
    }
   ],
   "source": [
    "ols.fittedvalues"
   ]
  },
  {
   "cell_type": "code",
   "execution_count": 146,
   "metadata": {},
   "outputs": [
    {
     "data": {
      "text/plain": [
       "0.009994905370797058"
      ]
     },
     "execution_count": 146,
     "metadata": {},
     "output_type": "execute_result"
    }
   ],
   "source": [
    "ols.rsquared"
   ]
  },
  {
   "cell_type": "code",
   "execution_count": 147,
   "metadata": {},
   "outputs": [
    {
     "data": {
      "text/plain": [
       "0.006041210903428018"
      ]
     },
     "execution_count": 147,
     "metadata": {},
     "output_type": "execute_result"
    }
   ],
   "source": [
    "ols.rsquared_adj"
   ]
  },
  {
   "cell_type": "code",
   "execution_count": 142,
   "metadata": {},
   "outputs": [
    {
     "data": {
      "text/html": [
       "<table class=\"simpletable\">\n",
       "<caption>OLS Regression Results</caption>\n",
       "<tr>\n",
       "  <th>Dep. Variable:</th>          <td>today</td>      <th>  R-squared:         </th> <td>   0.010</td>\n",
       "</tr>\n",
       "<tr>\n",
       "  <th>Model:</th>                   <td>OLS</td>       <th>  Adj. R-squared:    </th> <td>   0.006</td>\n",
       "</tr>\n",
       "<tr>\n",
       "  <th>Method:</th>             <td>Least Squares</td>  <th>  F-statistic:       </th> <td>   2.528</td>\n",
       "</tr>\n",
       "<tr>\n",
       "  <th>Date:</th>             <td>Fri, 19 Feb 2021</td> <th>  Prob (F-statistic):</th>  <td>0.0275</td> \n",
       "</tr>\n",
       "<tr>\n",
       "  <th>Time:</th>                 <td>22:23:55</td>     <th>  Log-Likelihood:    </th> <td>  3700.7</td>\n",
       "</tr>\n",
       "<tr>\n",
       "  <th>No. Observations:</th>      <td>  1258</td>      <th>  AIC:               </th> <td>  -7389.</td>\n",
       "</tr>\n",
       "<tr>\n",
       "  <th>Df Residuals:</th>          <td>  1252</td>      <th>  BIC:               </th> <td>  -7359.</td>\n",
       "</tr>\n",
       "<tr>\n",
       "  <th>Df Model:</th>              <td>     5</td>      <th>                     </th>     <td> </td>   \n",
       "</tr>\n",
       "<tr>\n",
       "  <th>Covariance Type:</th>      <td>nonrobust</td>    <th>                     </th>     <td> </td>   \n",
       "</tr>\n",
       "</table>\n",
       "<table class=\"simpletable\">\n",
       "<tr>\n",
       "      <td></td>         <th>coef</th>     <th>std err</th>      <th>t</th>      <th>P>|t|</th>  <th>[0.025</th>    <th>0.975]</th>  \n",
       "</tr>\n",
       "<tr>\n",
       "  <th>Intercept</th> <td>    0.0002</td> <td>    0.000</td> <td>    0.622</td> <td> 0.534</td> <td>   -0.000</td> <td>    0.001</td>\n",
       "</tr>\n",
       "<tr>\n",
       "  <th>lag1</th>      <td>    0.0077</td> <td>    0.028</td> <td>    0.273</td> <td> 0.785</td> <td>   -0.048</td> <td>    0.063</td>\n",
       "</tr>\n",
       "<tr>\n",
       "  <th>lag2</th>      <td>    0.0667</td> <td>    0.028</td> <td>    2.360</td> <td> 0.018</td> <td>    0.011</td> <td>    0.122</td>\n",
       "</tr>\n",
       "<tr>\n",
       "  <th>lag3</th>      <td>    0.0583</td> <td>    0.028</td> <td>    2.060</td> <td> 0.040</td> <td>    0.003</td> <td>    0.114</td>\n",
       "</tr>\n",
       "<tr>\n",
       "  <th>lag4</th>      <td>   -0.0469</td> <td>    0.028</td> <td>   -1.659</td> <td> 0.097</td> <td>   -0.102</td> <td>    0.009</td>\n",
       "</tr>\n",
       "<tr>\n",
       "  <th>lag5</th>      <td>    0.0112</td> <td>    0.028</td> <td>    0.397</td> <td> 0.691</td> <td>   -0.044</td> <td>    0.067</td>\n",
       "</tr>\n",
       "</table>\n",
       "<table class=\"simpletable\">\n",
       "<tr>\n",
       "  <th>Omnibus:</th>       <td>334.603</td> <th>  Durbin-Watson:     </th> <td>   1.990</td>\n",
       "</tr>\n",
       "<tr>\n",
       "  <th>Prob(Omnibus):</th> <td> 0.000</td>  <th>  Jarque-Bera (JB):  </th> <td>8094.072</td>\n",
       "</tr>\n",
       "<tr>\n",
       "  <th>Skew:</th>          <td>-0.651</td>  <th>  Prob(JB):          </th> <td>    0.00</td>\n",
       "</tr>\n",
       "<tr>\n",
       "  <th>Kurtosis:</th>      <td>15.358</td>  <th>  Cond. No.          </th> <td>    83.6</td>\n",
       "</tr>\n",
       "</table><br/><br/>Warnings:<br/>[1] Standard Errors assume that the covariance matrix of the errors is correctly specified."
      ],
      "text/plain": [
       "<class 'statsmodels.iolib.summary.Summary'>\n",
       "\"\"\"\n",
       "                            OLS Regression Results                            \n",
       "==============================================================================\n",
       "Dep. Variable:                  today   R-squared:                       0.010\n",
       "Model:                            OLS   Adj. R-squared:                  0.006\n",
       "Method:                 Least Squares   F-statistic:                     2.528\n",
       "Date:                Fri, 19 Feb 2021   Prob (F-statistic):             0.0275\n",
       "Time:                        22:23:55   Log-Likelihood:                 3700.7\n",
       "No. Observations:                1258   AIC:                            -7389.\n",
       "Df Residuals:                    1252   BIC:                            -7359.\n",
       "Df Model:                           5                                         \n",
       "Covariance Type:            nonrobust                                         \n",
       "==============================================================================\n",
       "                 coef    std err          t      P>|t|      [0.025      0.975]\n",
       "------------------------------------------------------------------------------\n",
       "Intercept      0.0002      0.000      0.622      0.534      -0.000       0.001\n",
       "lag1           0.0077      0.028      0.273      0.785      -0.048       0.063\n",
       "lag2           0.0667      0.028      2.360      0.018       0.011       0.122\n",
       "lag3           0.0583      0.028      2.060      0.040       0.003       0.114\n",
       "lag4          -0.0469      0.028     -1.659      0.097      -0.102       0.009\n",
       "lag5           0.0112      0.028      0.397      0.691      -0.044       0.067\n",
       "==============================================================================\n",
       "Omnibus:                      334.603   Durbin-Watson:                   1.990\n",
       "Prob(Omnibus):                  0.000   Jarque-Bera (JB):             8094.072\n",
       "Skew:                          -0.651   Prob(JB):                         0.00\n",
       "Kurtosis:                      15.358   Cond. No.                         83.6\n",
       "==============================================================================\n",
       "\n",
       "Warnings:\n",
       "[1] Standard Errors assume that the covariance matrix of the errors is correctly specified.\n",
       "\"\"\""
      ]
     },
     "execution_count": 142,
     "metadata": {},
     "output_type": "execute_result"
    }
   ],
   "source": [
    "ols.summary()"
   ]
  },
  {
   "cell_type": "markdown",
   "metadata": {},
   "source": [
    "In our model Rsquared is verylow. So the model can not explain all lags meaningly."
   ]
  }
 ],
 "metadata": {
  "colab": {
   "collapsed_sections": [],
   "name": "final excercises (1).ipynb",
   "provenance": []
  },
  "kernelspec": {
   "display_name": "Python 3",
   "language": "python",
   "name": "python3"
  },
  "language_info": {
   "codemirror_mode": {
    "name": "ipython",
    "version": 3
   },
   "file_extension": ".py",
   "mimetype": "text/x-python",
   "name": "python",
   "nbconvert_exporter": "python",
   "pygments_lexer": "ipython3",
   "version": "3.8.3"
  }
 },
 "nbformat": 4,
 "nbformat_minor": 1
}
