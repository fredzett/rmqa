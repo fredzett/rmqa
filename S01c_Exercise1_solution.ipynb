{
 "cells": [
  {
   "cell_type": "markdown",
   "metadata": {},
   "source": [
    "# Exercise"
   ]
  },
  {
   "cell_type": "markdown",
   "metadata": {},
   "source": [
    "Create two variables `a` and `b`, assign them any value and ensure that both variables are shown (printed) as output"
   ]
  },
  {
   "cell_type": "markdown",
   "metadata": {
    "slideshow": {
     "slide_type": "skip"
    }
   },
   "source": [
    "## Solution"
   ]
  },
  {
   "cell_type": "code",
   "execution_count": null,
   "metadata": {},
   "outputs": [],
   "source": [
    "a = 13\n",
    "b = \"Felix\"\n",
    "print(a,b)"
   ]
  },
  {
   "cell_type": "markdown",
   "metadata": {},
   "source": [
    "We can also add some descriptive text"
   ]
  },
  {
   "cell_type": "code",
   "execution_count": null,
   "metadata": {},
   "outputs": [],
   "source": [
    "print(\"Variable a =\", a, \"/ Variable b = \", b)"
   ]
  },
  {
   "cell_type": "markdown",
   "metadata": {},
   "source": [
    "Note that you can also print multiple variables by entering them in a cell's last line and separating them by comma"
   ]
  },
  {
   "cell_type": "code",
   "execution_count": null,
   "metadata": {},
   "outputs": [],
   "source": [
    "a, b"
   ]
  },
  {
   "cell_type": "markdown",
   "metadata": {},
   "source": [
    "# Exercise"
   ]
  },
  {
   "cell_type": "markdown",
   "metadata": {},
   "source": [
    "Write a function that converts **Celsius** into **Fahrenheit**. The function should take as input degrees in Celsius and return degrees in Fahrenheit. \n",
    "\n",
    "(Note: if you don't know the formula search for it.)"
   ]
  },
  {
   "cell_type": "code",
   "execution_count": null,
   "metadata": {},
   "outputs": [],
   "source": [
    "celsius = 12"
   ]
  },
  {
   "cell_type": "markdown",
   "metadata": {},
   "source": [
    "## Solution"
   ]
  },
  {
   "cell_type": "code",
   "execution_count": null,
   "metadata": {},
   "outputs": [],
   "source": [
    "def celsius_to_fahrenheit(celsius):\n",
    "    fahrenheit = celsius * 9/5 + 32\n",
    "    return fahrenheit"
   ]
  },
  {
   "cell_type": "code",
   "execution_count": null,
   "metadata": {},
   "outputs": [],
   "source": [
    "celsius_to_fahrenheit(celsius)"
   ]
  },
  {
   "cell_type": "markdown",
   "metadata": {},
   "source": [
    "# Exercise"
   ]
  },
  {
   "cell_type": "markdown",
   "metadata": {},
   "source": [
    "There are four friends:\n",
    "- Peter is 42 years old\n",
    "- Özlem is 27 years old\n",
    "- Horst is 65 years old\n",
    "- Jenny is 29 years old\n",
    "\n",
    "Calculate the average age of the group. \n",
    "\n",
    "Ensure that your function is flexible enough to handle larger or smaller groups as well.  "
   ]
  },
  {
   "cell_type": "markdown",
   "metadata": {},
   "source": [
    "## Solution"
   ]
  },
  {
   "cell_type": "code",
   "execution_count": null,
   "metadata": {},
   "outputs": [],
   "source": [
    "def my_mean(group):\n",
    "    return sum(group)/len(group)"
   ]
  },
  {
   "cell_type": "code",
   "execution_count": null,
   "metadata": {},
   "outputs": [],
   "source": [
    "group = [42,27,65,29]"
   ]
  },
  {
   "cell_type": "code",
   "execution_count": null,
   "metadata": {},
   "outputs": [],
   "source": [
    "my_mean(group)"
   ]
  },
  {
   "cell_type": "markdown",
   "metadata": {},
   "source": [
    "See if function also works for groups different from size 4."
   ]
  },
  {
   "cell_type": "code",
   "execution_count": null,
   "metadata": {},
   "outputs": [],
   "source": [
    "group = [1,2,3,4,5,6,7,8]\n",
    "my_mean(group)"
   ]
  },
  {
   "cell_type": "markdown",
   "metadata": {},
   "source": [
    "# Exercise"
   ]
  },
  {
   "cell_type": "markdown",
   "metadata": {},
   "source": [
    "Your are given the annual returns of the German Stock Index **DAX 30** (see below).\n",
    "\n",
    "|   2011  |  2012  |  2013  |  2014 |  2015 |  2016 |  2017  |\n",
    "|:-------:|:------:|:------:|:-----:|:-----:|:-----:|:------:|\n",
    "| -14,69% | 29,06% | 25,48% | 2,65% | 9,56% | 6,87% | 12,51% |\n",
    "\n",
    "\n",
    "Write a function that takes as input the above Dax returns and based on that input calucaltes the standard deviation of the annual returns. Your function should be flexible enough to handle lists of of length other than 6. \n",
    "\n",
    "> **Note**: the function for (sample) `standard deviation` is given by:\n",
    ">\n",
    "> $$s = \\sqrt{s^2}$$\n",
    ">\n",
    "> where *sample variance* $s^2$ is given by:\n",
    ">\n",
    "> $$s^2 = \\frac{\\sum (x_i - \\bar{x})^2}{n - 1}$$"
   ]
  },
  {
   "cell_type": "markdown",
   "metadata": {},
   "source": [
    "## Solution"
   ]
  },
  {
   "cell_type": "code",
   "execution_count": null,
   "metadata": {},
   "outputs": [],
   "source": [
    "ret = [-0.1469, 0.2906, .2549, .0265, .0956, .0687, .1251]"
   ]
  },
  {
   "cell_type": "code",
   "execution_count": null,
   "metadata": {},
   "outputs": [],
   "source": [
    "# Using list comprehension\n",
    "def stdev(ret):\n",
    "    mu = sum(ret)/len(ret)\n",
    "    var = sum([(r - mu)**2 for r in ret ]) / (len(ret) - 1)\n",
    "    return var**(1/2)"
   ]
  },
  {
   "cell_type": "code",
   "execution_count": null,
   "metadata": {},
   "outputs": [],
   "source": [
    "stdev(ret)"
   ]
  },
  {
   "cell_type": "code",
   "execution_count": null,
   "metadata": {},
   "outputs": [],
   "source": [
    "# Using regular for loop\n",
    "def stdev(ret):\n",
    "    mu = sum(ret)/len(ret)\n",
    "    numerator = 0\n",
    "    for xi in ret:\n",
    "        numerator = numerator + (xi - mu)**2\n",
    "    var = numerator / (len(ret) - 1)\n",
    "    return var**(1/2)"
   ]
  },
  {
   "cell_type": "code",
   "execution_count": null,
   "metadata": {},
   "outputs": [],
   "source": [
    "stdev(ret)"
   ]
  },
  {
   "cell_type": "markdown",
   "metadata": {},
   "source": [
    "# Exercise"
   ]
  },
  {
   "cell_type": "markdown",
   "metadata": {},
   "source": [
    "Write a function takes as input:\n",
    "\n",
    "- list of numbers\n",
    "- list of factors\n",
    "\n",
    "The function should then return a list which multiplies each number with the respective factor. \n",
    "\n",
    "Example:\n",
    "\n",
    "```Python\n",
    "numbers = [1,2,3]\n",
    "factors = [6,7,8]\n",
    "result = [6,14,24]\n",
    "```"
   ]
  },
  {
   "cell_type": "markdown",
   "metadata": {},
   "source": [
    "## Solution"
   ]
  },
  {
   "cell_type": "code",
   "execution_count": null,
   "metadata": {},
   "outputs": [],
   "source": [
    "def numbers_x_factors(numbers, factors):\n",
    "    counter = 0\n",
    "    new_list = []\n",
    "    for number in numbers:\n",
    "        factor = factors[counter]\n",
    "        new_list.append(number * factor)\n",
    "        counter = counter + 1\n",
    "    return new_list"
   ]
  },
  {
   "cell_type": "code",
   "execution_count": null,
   "metadata": {},
   "outputs": [],
   "source": [
    "numbers = [1,2,3]\n",
    "factors = [6,7,8]\n",
    "numbers_x_factors(numbers, factors)"
   ]
  },
  {
   "cell_type": "markdown",
   "metadata": {},
   "source": [
    "Here is a more \"pythonic\" solution using a new function `zip` ([see here](https://www.w3schools.com/python/ref_func_zip.asp#:~:text=The%20zip()%20function%20returns,iterator%20are%20paired%20together%20etc.))"
   ]
  },
  {
   "cell_type": "code",
   "execution_count": null,
   "metadata": {},
   "outputs": [],
   "source": [
    "def numbers_x_factors(numbers, factors):\n",
    "    return [number*factor for number,factor in zip(numbers,factors)]"
   ]
  },
  {
   "cell_type": "code",
   "execution_count": null,
   "metadata": {},
   "outputs": [],
   "source": [
    "numbers = [1,2,3]\n",
    "factors = [6,7,8]\n",
    "numbers_x_factors(numbers, factors)"
   ]
  }
 ],
 "metadata": {
  "kernelspec": {
   "display_name": "Python 3",
   "language": "python",
   "name": "python3"
  },
  "language_info": {
   "codemirror_mode": {
    "name": "ipython",
    "version": 3
   },
   "file_extension": ".py",
   "mimetype": "text/x-python",
   "name": "python",
   "nbconvert_exporter": "python",
   "pygments_lexer": "ipython3",
   "version": "3.8.3"
  },
  "toc-autonumbering": false
 },
 "nbformat": 4,
 "nbformat_minor": 4
}
